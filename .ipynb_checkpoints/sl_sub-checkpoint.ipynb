{
 "cells": [
  {
   "cell_type": "code",
   "execution_count": 2,
   "id": "2af7b7c3",
   "metadata": {},
   "outputs": [
    {
     "name": "stdout",
     "output_type": "stream",
     "text": [
      "C:\\Program Files\\Git\\cmd\\git.exe\n"
     ]
    }
   ],
   "source": [
    "!where git"
   ]
  },
  {
   "cell_type": "code",
   "execution_count": null,
   "id": "e5f615c3",
   "metadata": {},
   "outputs": [],
   "source": [
    "#github link : https://github.com/Shruti-123-patel/Flight-Booking-System.git\n",
    "#git commit history is there"
   ]
  },
  {
   "cell_type": "code",
   "execution_count": 3,
   "id": "9dab8e88",
   "metadata": {},
   "outputs": [
    {
     "data": {
      "text/plain": [
       "'S:\\\\Project_Sl'"
      ]
     },
     "execution_count": 3,
     "metadata": {},
     "output_type": "execute_result"
    }
   ],
   "source": [
    "pwd"
   ]
  },
  {
   "cell_type": "code",
   "execution_count": 5,
   "id": "8da87ea2",
   "metadata": {},
   "outputs": [
    {
     "name": "stdout",
     "output_type": "stream",
     "text": [
      "git version 2.33.0.windows.2\n"
     ]
    }
   ],
   "source": [
    "!git --version"
   ]
  },
  {
   "cell_type": "code",
   "execution_count": null,
   "id": "da6388c3",
   "metadata": {},
   "outputs": [],
   "source": [
    "FIRST TIME"
   ]
  },
  {
   "cell_type": "code",
   "execution_count": 6,
   "id": "72811f87",
   "metadata": {},
   "outputs": [
    {
     "name": "stdout",
     "output_type": "stream",
     "text": [
      "Reinitialized existing Git repository in S:/Project_Sl/.git/\n"
     ]
    }
   ],
   "source": [
    "# to initialize git in the folder\n",
    "!git init"
   ]
  },
  {
   "cell_type": "code",
   "execution_count": null,
   "id": "b89306f1",
   "metadata": {},
   "outputs": [],
   "source": [
    "# only first time , in order to connect github repo with git local system\n",
    "!git remote add origin https://github.com/Shruti-123-patel/Flight-Booking-System.git"
   ]
  },
  {
   "cell_type": "code",
   "execution_count": null,
   "id": "cb0b4490",
   "metadata": {},
   "outputs": [],
   "source": [
    "# to change branch from master to main (as in github it is main)\n",
    "!git branch -m main "
   ]
  },
  {
   "cell_type": "code",
   "execution_count": null,
   "id": "2e245f6b",
   "metadata": {},
   "outputs": [],
   "source": [
    "# to pull all files from github (1st time)\n",
    "#!git pull origin main"
   ]
  },
  {
   "cell_type": "code",
   "execution_count": null,
   "id": "8690fa5b",
   "metadata": {},
   "outputs": [],
   "source": [
    "# add the skeleton(frontend and backend) on the git\n",
    "!git add ."
   ]
  },
  {
   "cell_type": "code",
   "execution_count": null,
   "id": "fc6c27c5",
   "metadata": {},
   "outputs": [],
   "source": [
    "# commit the skeleton(frontend and backend) on the git\n",
    "!git commit -m \"first change\""
   ]
  },
  {
   "cell_type": "code",
   "execution_count": null,
   "id": "9e421088",
   "metadata": {},
   "outputs": [],
   "source": [
    "# push the skeleton(frontend and backend) on the github from git\n",
    "!git push origin main "
   ]
  },
  {
   "cell_type": "code",
   "execution_count": null,
   "id": "efee557a",
   "metadata": {},
   "outputs": [],
   "source": [
    "SECOND TIME ( AFTER SOMEONE HAS CHANGED THE REPO )"
   ]
  },
  {
   "cell_type": "code",
   "execution_count": 8,
   "id": "d866dddc",
   "metadata": {},
   "outputs": [
    {
     "name": "stderr",
     "output_type": "stream",
     "text": [
      "warning: LF will be replaced by CRLF in .ipynb_checkpoints/sl_sub-checkpoint.ipynb.\n",
      "The file will have its original line endings in your working directory\n",
      "warning: LF will be replaced by CRLF in sl_sub.ipynb.\n",
      "The file will have its original line endings in your working directory\n"
     ]
    }
   ],
   "source": [
    "# to add all the files in the git (local machine)\n",
    "!git add ."
   ]
  },
  {
   "cell_type": "code",
   "execution_count": 9,
   "id": "d58ffd39",
   "metadata": {},
   "outputs": [
    {
     "name": "stdout",
     "output_type": "stream",
     "text": [
      "[main 3ffceef] temp\n",
      " 2 files changed, 129 insertions(+)\n",
      " create mode 100644 .ipynb_checkpoints/sl_sub-checkpoint.ipynb\n",
      " create mode 100644 sl_sub.ipynb\n"
     ]
    }
   ],
   "source": [
    "# to commit all changes in the git directory\n",
    "!git commit -m \"temp\""
   ]
  },
  {
   "cell_type": "code",
   "execution_count": 10,
   "id": "3acd4300",
   "metadata": {},
   "outputs": [
    {
     "name": "stdout",
     "output_type": "stream",
     "text": [
      "Merge made by the 'recursive' strategy.\n",
      " .gitignore                                         |   5 ++++\n",
      " README.md                                          |  26 ++++++++++-----------\n",
      " .../backend/__pycache__/__init__.cpython-311.pyc   | Bin 0 -> 169 bytes\n",
      " .../backend/__pycache__/settings.cpython-311.pyc   | Bin 0 -> 2969 bytes\n",
      " backend/backend/__pycache__/urls.cpython-311.pyc   | Bin 0 -> 1362 bytes\n",
      " backend/backend/__pycache__/wsgi.cpython-311.pyc   | Bin 0 -> 691 bytes\n",
      " .../mainapp/__pycache__/__init__.cpython-311.pyc   | Bin 0 -> 169 bytes\n",
      " backend/mainapp/__pycache__/admin.cpython-311.pyc  | Bin 0 -> 224 bytes\n",
      " backend/mainapp/__pycache__/apps.cpython-311.pyc   | Bin 0 -> 542 bytes\n",
      " backend/mainapp/__pycache__/models.cpython-311.pyc | Bin 0 -> 1095 bytes\n",
      " backend/mainapp/__pycache__/urls.cpython-311.pyc   | Bin 0 -> 350 bytes\n",
      " backend/mainapp/__pycache__/views.cpython-311.pyc  | Bin 0 -> 1299 bytes\n",
      " .../__pycache__/__init__.cpython-311.pyc           | Bin 0 -> 180 bytes\n",
      " backend/mainapp/models.py                          |  10 +++++++-\n",
      " backend/mainapp/views.py                           |  14 +++++++++--\n",
      " 15 files changed, 39 insertions(+), 16 deletions(-)\n",
      " create mode 100644 backend/backend/__pycache__/__init__.cpython-311.pyc\n",
      " create mode 100644 backend/backend/__pycache__/settings.cpython-311.pyc\n",
      " create mode 100644 backend/backend/__pycache__/urls.cpython-311.pyc\n",
      " create mode 100644 backend/backend/__pycache__/wsgi.cpython-311.pyc\n",
      " create mode 100644 backend/mainapp/__pycache__/__init__.cpython-311.pyc\n",
      " create mode 100644 backend/mainapp/__pycache__/admin.cpython-311.pyc\n",
      " create mode 100644 backend/mainapp/__pycache__/apps.cpython-311.pyc\n",
      " create mode 100644 backend/mainapp/__pycache__/models.cpython-311.pyc\n",
      " create mode 100644 backend/mainapp/__pycache__/urls.cpython-311.pyc\n",
      " create mode 100644 backend/mainapp/__pycache__/views.cpython-311.pyc\n",
      " create mode 100644 backend/mainapp/migrations/__pycache__/__init__.cpython-311.pyc\n"
     ]
    },
    {
     "name": "stderr",
     "output_type": "stream",
     "text": [
      "From https://github.com/Shruti-123-patel/Flight-Booking-System\n",
      " * branch              main       -> FETCH_HEAD\n",
      "   e50e6c75..d5154a8f  main       -> origin/main\n"
     ]
    }
   ],
   "source": [
    "# pull the github repository changes in local machine\n",
    "!git pull origin main"
   ]
  },
  {
   "cell_type": "code",
   "execution_count": null,
   "id": "f293edd2",
   "metadata": {},
   "outputs": [],
   "source": [
    "# to solve conflicts \n",
    "!git add <files>\n",
    "!git rm -r <files/folders>"
   ]
  },
  {
   "cell_type": "code",
   "execution_count": null,
   "id": "aac9df65",
   "metadata": {},
   "outputs": [],
   "source": [
    "# commit all the changes\n",
    "!git commit -m \"changed one\""
   ]
  },
  {
   "cell_type": "code",
   "execution_count": null,
   "id": "57561540",
   "metadata": {},
   "outputs": [],
   "source": [
    "#push all to the github\n",
    "!git push origin main"
   ]
  },
  {
   "cell_type": "code",
   "execution_count": null,
   "id": "a6fb7d36",
   "metadata": {},
   "outputs": [],
   "source": []
  }
 ],
 "metadata": {
  "kernelspec": {
   "display_name": "Python 3 (ipykernel)",
   "language": "python",
   "name": "python3"
  },
  "language_info": {
   "codemirror_mode": {
    "name": "ipython",
    "version": 3
   },
   "file_extension": ".py",
   "mimetype": "text/x-python",
   "name": "python",
   "nbconvert_exporter": "python",
   "pygments_lexer": "ipython3",
   "version": "3.10.2"
  }
 },
 "nbformat": 4,
 "nbformat_minor": 5
}
